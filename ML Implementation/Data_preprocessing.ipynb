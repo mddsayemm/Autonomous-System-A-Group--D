{
 "cells": [
  {
   "cell_type": "code",
   "execution_count": 1,
   "id": "0f2fff90-9eb8-4356-a6e1-3c7d03fe96d6",
   "metadata": {},
   "outputs": [
    {
     "name": "stdout",
     "output_type": "stream",
     "text": [
      "Collecting opencv-python-headless\n",
      "  Downloading opencv_python_headless-4.11.0.86-cp37-abi3-win_amd64.whl.metadata (20 kB)\n",
      "Collecting tqdm\n",
      "  Downloading tqdm-4.67.1-py3-none-any.whl.metadata (57 kB)\n",
      "Requirement already satisfied: numpy>=1.21.2 in c:\\users\\mcsmu\\appdata\\local\\programs\\python\\python313\\lib\\site-packages (from opencv-python-headless) (2.1.3)\n",
      "Requirement already satisfied: colorama in c:\\users\\mcsmu\\appdata\\local\\programs\\python\\python313\\lib\\site-packages (from tqdm) (0.4.6)\n",
      "Downloading opencv_python_headless-4.11.0.86-cp37-abi3-win_amd64.whl (39.4 MB)\n",
      "   ---------------------------------------- 0.0/39.4 MB ? eta -:--:--\n",
      "   -- ------------------------------------- 2.1/39.4 MB 11.8 MB/s eta 0:00:04\n",
      "   ---- ----------------------------------- 4.7/39.4 MB 12.6 MB/s eta 0:00:03\n",
      "   ------- -------------------------------- 7.6/39.4 MB 12.9 MB/s eta 0:00:03\n",
      "   ---------- ----------------------------- 10.2/39.4 MB 13.0 MB/s eta 0:00:03\n",
      "   ------------- -------------------------- 12.8/39.4 MB 12.9 MB/s eta 0:00:03\n",
      "   --------------- ------------------------ 15.5/39.4 MB 12.9 MB/s eta 0:00:02\n",
      "   ------------------ --------------------- 18.1/39.4 MB 12.9 MB/s eta 0:00:02\n",
      "   --------------------- ------------------ 21.0/39.4 MB 12.9 MB/s eta 0:00:02\n",
      "   ----------------------- ---------------- 23.6/39.4 MB 12.9 MB/s eta 0:00:02\n",
      "   -------------------------- ------------- 26.2/39.4 MB 13.0 MB/s eta 0:00:02\n",
      "   ----------------------------- ---------- 29.1/39.4 MB 13.0 MB/s eta 0:00:01\n",
      "   -------------------------------- ------- 31.7/39.4 MB 13.0 MB/s eta 0:00:01\n",
      "   ---------------------------------- ----- 34.3/39.4 MB 12.9 MB/s eta 0:00:01\n",
      "   ------------------------------------- -- 37.2/39.4 MB 12.9 MB/s eta 0:00:01\n",
      "   ---------------------------------------  39.3/39.4 MB 12.9 MB/s eta 0:00:01\n",
      "   ---------------------------------------- 39.4/39.4 MB 12.2 MB/s eta 0:00:00\n",
      "Downloading tqdm-4.67.1-py3-none-any.whl (78 kB)\n",
      "Installing collected packages: tqdm, opencv-python-headless\n",
      "\n",
      "   ---------------------------------------- 0/2 [tqdm]\n",
      "   ---------------------------------------- 0/2 [tqdm]\n",
      "   ---------------------------------------- 0/2 [tqdm]\n",
      "   ---------------------------------------- 0/2 [tqdm]\n",
      "   -------------------- ------------------- 1/2 [opencv-python-headless]\n",
      "   -------------------- ------------------- 1/2 [opencv-python-headless]\n",
      "   -------------------- ------------------- 1/2 [opencv-python-headless]\n",
      "   -------------------- ------------------- 1/2 [opencv-python-headless]\n",
      "   -------------------- ------------------- 1/2 [opencv-python-headless]\n",
      "   ---------------------------------------- 2/2 [opencv-python-headless]\n",
      "\n",
      "Successfully installed opencv-python-headless-4.11.0.86 tqdm-4.67.1\n"
     ]
    }
   ],
   "source": [
    "!pip install opencv-python-headless tqdm\n"
   ]
  },
  {
   "cell_type": "code",
   "execution_count": 4,
   "id": "9325ccc7-b011-49ef-83a2-44e10430d896",
   "metadata": {
    "scrolled": true
   },
   "outputs": [
    {
     "data": {
      "application/vnd.jupyter.widget-view+json": {
       "model_id": "3427998b77594fd9a14bf7fac9b7d0ea",
       "version_major": 2,
       "version_minor": 0
      },
      "text/plain": [
       "  0%|          | 0/3059 [00:00<?, ?it/s]"
      ]
     },
     "metadata": {},
     "output_type": "display_data"
    }
   ],
   "source": [
    "import cv2\n",
    "import os\n",
    "import numpy as np\n",
    "from tqdm.notebook import tqdm\n",
    "import matplotlib.pyplot as plt\n",
    "\n",
    "# Set your actual paths\n",
    "input_folder = r\"C:\\Users\\mcsmu\\Desktop\\Autonomous A LAB\\Dataset\\teamD_dataset\\_out_dataset\"\n",
    "output_folder = r\"C:\\Users\\mcsmu\\Desktop\\Autonomous A LAB\\Dataset\\teamD_dataset\\Fresh\"\n",
    "\n",
    "# Create output folder if it doesn't exist\n",
    "os.makedirs(output_folder, exist_ok=True)\n",
    "\n",
    "# HSV range for green/cyan line detection\n",
    "lower = np.array([40, 100, 150])\n",
    "upper = np.array([95, 255, 255])\n",
    "min_green_pixels = 500  # adjust this threshold if needed\n",
    "\n",
    "# Loop through images and filter\n",
    "for file in tqdm(os.listdir(input_folder)):\n",
    "    if file.lower().endswith((\".jpg\", \".jpeg\", \".png\")):\n",
    "        path = os.path.join(input_folder, file)\n",
    "        image = cv2.imread(path)\n",
    "\n",
    "        if image is None:\n",
    "            continue\n",
    "\n",
    "        hsv = cv2.cvtColor(image, cv2.COLOR_BGR2HSV)\n",
    "        mask = cv2.inRange(hsv, lower, upper)\n",
    "        green_pixels = cv2.countNonZero(mask)\n",
    "\n",
    "        if green_pixels > min_green_pixels:\n",
    "            save_path = os.path.join(output_folder, file)\n",
    "            cv2.imwrite(save_path, image)\n"
   ]
  },
  {
   "cell_type": "code",
   "execution_count": null,
   "id": "a84c80f2-661f-40c1-808d-f5fb535314ba",
   "metadata": {},
   "outputs": [],
   "source": []
  }
 ],
 "metadata": {
  "kernelspec": {
   "display_name": "Python 3 (ipykernel)",
   "language": "python",
   "name": "python3"
  },
  "language_info": {
   "codemirror_mode": {
    "name": "ipython",
    "version": 3
   },
   "file_extension": ".py",
   "mimetype": "text/x-python",
   "name": "python",
   "nbconvert_exporter": "python",
   "pygments_lexer": "ipython3",
   "version": "3.13.0"
  }
 },
 "nbformat": 4,
 "nbformat_minor": 5
}
