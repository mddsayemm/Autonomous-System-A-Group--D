{
 "cells": [
  {
   "cell_type": "code",
   "execution_count": 6,
   "id": "af87b9bb-eccb-4ff5-bbae-454e1f0c935f",
   "metadata": {},
   "outputs": [
    {
     "name": "stderr",
     "output_type": "stream",
     "text": [
      "Checking images: 100%|█████████████████████████████████████████████████████████████| 2922/2922 [03:03<00:00, 15.95it/s]"
     ]
    },
    {
     "name": "stdout",
     "output_type": "stream",
     "text": [
      "✅ Done! All images with visible line are in: C:\\Users\\mcsmu\\Desktop\\other team\\teamE_dataset\\_out_dataset\\line_detected\n"
     ]
    },
    {
     "name": "stderr",
     "output_type": "stream",
     "text": [
      "\n"
     ]
    }
   ],
   "source": [
    "import os\n",
    "import cv2\n",
    "import shutil\n",
    "import numpy as np\n",
    "from tqdm import tqdm\n",
    "\n",
    "# === CONFIGURATION ===\n",
    "SOURCE_FOLDER = r\"C:\\Users\\mcsmu\\Desktop\\other team\\teamE_dataset\\_out_dataset\"  \n",
    "DEST_FOLDER = os.path.join(SOURCE_FOLDER, \"line_detected\")    \n",
    "THRESHOLD_GREEN_PIXELS = 20                                    \n",
    "\n",
    "\n",
    "os.makedirs(DEST_FOLDER, exist_ok=True)\n",
    "\n",
    "# === Define function to detect the green/cyan assist line ===\n",
    "def has_greenish_line(image_path):\n",
    "    img = cv2.imread(image_path)\n",
    "    if img is None:\n",
    "        return False\n",
    "\n",
    "    resized = cv2.resize(img, (160, 120))  # Smaller = faster\n",
    "    hsv = cv2.cvtColor(resized, cv2.COLOR_BGR2HSV)\n",
    "\n",
    "    # Covers green to cyan bright hues (tuned from your examples)\n",
    "    lower = np.array([35, 80, 150])\n",
    "    upper = np.array([100, 255, 255])\n",
    "    mask = cv2.inRange(hsv, lower, upper)\n",
    "\n",
    "    # Focus on bottom half of the image\n",
    "    roi = mask[mask.shape[0]//2:, :]\n",
    "    green_pixel_count = np.sum(roi > 0)\n",
    "\n",
    "    return green_pixel_count > THRESHOLD_GREEN_PIXELS\n",
    "\n",
    "# === Process and copy valid images ===\n",
    "image_list = [f for f in os.listdir(SOURCE_FOLDER) if f.lower().endswith((\".png\", \".jpg\", \".jpeg\"))]\n",
    "\n",
    "for filename in tqdm(image_list, desc=\"Checking images\"):\n",
    "    full_path = os.path.join(SOURCE_FOLDER, filename)\n",
    "    if has_greenish_line(full_path):\n",
    "        shutil.copy(full_path, os.path.join(DEST_FOLDER, filename))\n",
    "\n",
    "print(\"✅ Done! All images with visible line are in:\", DEST_FOLDER)\n"
   ]
  },
  {
   "cell_type": "code",
   "execution_count": null,
   "id": "c0b2f478-18d3-4cbf-bc6c-fca130bece5b",
   "metadata": {},
   "outputs": [],
   "source": []
  }
 ],
 "metadata": {
  "kernelspec": {
   "display_name": "Python 3 (ipykernel)",
   "language": "python",
   "name": "python3"
  },
  "language_info": {
   "codemirror_mode": {
    "name": "ipython",
    "version": 3
   },
   "file_extension": ".py",
   "mimetype": "text/x-python",
   "name": "python",
   "nbconvert_exporter": "python",
   "pygments_lexer": "ipython3",
   "version": "3.13.0"
  }
 },
 "nbformat": 4,
 "nbformat_minor": 5
}
